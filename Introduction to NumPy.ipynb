{
 "cells": [
  {
   "cell_type": "markdown",
   "id": "f74f3f49",
   "metadata": {},
   "source": [
    "# Introduction to Numpy\n",
    "Learning NumPy!"
   ]
  },
  {
   "cell_type": "code",
   "execution_count": 93,
   "id": "35d94b30",
   "metadata": {},
   "outputs": [
    {
     "data": {
      "text/plain": [
       "'1.23.1'"
      ]
     },
     "execution_count": 93,
     "metadata": {},
     "output_type": "execute_result"
    }
   ],
   "source": [
    "import matplotlib.pyplot as plt\n",
    "import numpy as np\n",
    "np.__version__"
   ]
  },
  {
   "cell_type": "markdown",
   "id": "824066c8",
   "metadata": {},
   "source": [
    "## Differences between lists and NumPy Arrays\n",
    "* List are mutable\n",
    "* List can have only same data type"
   ]
  },
  {
   "cell_type": "code",
   "execution_count": 2,
   "id": "27ba3b8c",
   "metadata": {},
   "outputs": [],
   "source": [
    "gpas_as_list = [4.0, 3.286, 3.5]"
   ]
  },
  {
   "cell_type": "code",
   "execution_count": 3,
   "id": "437b001b",
   "metadata": {},
   "outputs": [
    {
     "data": {
      "text/plain": [
       "'whatever'"
      ]
     },
     "execution_count": 3,
     "metadata": {},
     "output_type": "execute_result"
    }
   ],
   "source": [
    "#Can append elements\n",
    "gpas_as_list.append(4.0)\n",
    "#Can have multiple datatypes in it\n",
    "gpas_as_list.insert(1, \"whatever\")\n",
    "#Can remove items\n",
    "gpas_as_list.pop(1)"
   ]
  },
  {
   "cell_type": "code",
   "execution_count": 4,
   "id": "f303da38",
   "metadata": {},
   "outputs": [
    {
     "data": {
      "text/plain": [
       "[4.0, 3.286, 3.5, 4.0]"
      ]
     },
     "execution_count": 4,
     "metadata": {},
     "output_type": "execute_result"
    }
   ],
   "source": [
    "gpas_as_list"
   ]
  },
  {
   "cell_type": "code",
   "execution_count": 5,
   "id": "1c1758be",
   "metadata": {},
   "outputs": [],
   "source": [
    "gpas = np.array(gpas_as_list)"
   ]
  },
  {
   "cell_type": "code",
   "execution_count": 6,
   "id": "8cd42d26",
   "metadata": {},
   "outputs": [],
   "source": [
    "?gpas"
   ]
  },
  {
   "cell_type": "code",
   "execution_count": 7,
   "id": "0ce17ff1",
   "metadata": {},
   "outputs": [
    {
     "data": {
      "text/plain": [
       "dtype('float64')"
      ]
     },
     "execution_count": 7,
     "metadata": {},
     "output_type": "execute_result"
    }
   ],
   "source": [
    "gpas.dtype"
   ]
  },
  {
   "cell_type": "code",
   "execution_count": 8,
   "id": "41633f6f",
   "metadata": {},
   "outputs": [
    {
     "data": {
      "text/plain": [
       "8"
      ]
     },
     "execution_count": 8,
     "metadata": {},
     "output_type": "execute_result"
    }
   ],
   "source": [
    "gpas.itemsize"
   ]
  },
  {
   "cell_type": "code",
   "execution_count": 9,
   "id": "545e858b",
   "metadata": {},
   "outputs": [
    {
     "data": {
      "text/plain": [
       "4"
      ]
     },
     "execution_count": 9,
     "metadata": {},
     "output_type": "execute_result"
    }
   ],
   "source": [
    "gpas.size"
   ]
  },
  {
   "cell_type": "code",
   "execution_count": 10,
   "id": "d6cb1538",
   "metadata": {},
   "outputs": [
    {
     "data": {
      "text/plain": [
       "4"
      ]
     },
     "execution_count": 10,
     "metadata": {},
     "output_type": "execute_result"
    }
   ],
   "source": [
    "len(gpas)"
   ]
  },
  {
   "cell_type": "code",
   "execution_count": 11,
   "id": "e6b9e4be",
   "metadata": {},
   "outputs": [
    {
     "data": {
      "text/plain": [
       "32"
      ]
     },
     "execution_count": 11,
     "metadata": {},
     "output_type": "execute_result"
    }
   ],
   "source": [
    "gpas.nbytes"
   ]
  },
  {
   "cell_type": "markdown",
   "id": "ef7bc0bc",
   "metadata": {},
   "source": [
    "## Multideminsional Arrays aka ndarrays\n",
    "* example is a 2d array aka matrix \n",
    "* nested arrays in other arrays to create a higer degree\n",
    "* Rank defines how many dimensions an array contains\n",
    "* Shape defines the length of each of the array's dimensions\n",
    "* Each dimension is also refereed to as an axis, and they are zero-indexed Multiples are called axes."
   ]
  },
  {
   "cell_type": "code",
   "execution_count": 12,
   "id": "010ec1d1",
   "metadata": {},
   "outputs": [
    {
     "data": {
      "text/plain": [
       "array([[4.   , 3.285, 3.5  , 4.   ],\n",
       "       [3.2  , 2.8  , 4.   , 4.   ],\n",
       "       [3.96 , 3.92 , 4.   , 4.   ]], dtype=float16)"
      ]
     },
     "execution_count": 12,
     "metadata": {},
     "output_type": "execute_result"
    }
   ],
   "source": [
    "students_gpas = np.array([[4.0, 3.286, 3.5, 4.0],\n",
    "                         [3.2, 2.8, 4.0, 4.0],\n",
    "                         [3.96, 3.92, 4.0, 4.0]\n",
    "                         ],np.float16)\n",
    "students_gpas"
   ]
  },
  {
   "cell_type": "code",
   "execution_count": 13,
   "id": "af0ef0bd",
   "metadata": {},
   "outputs": [
    {
     "data": {
      "text/plain": [
       "2"
      ]
     },
     "execution_count": 13,
     "metadata": {},
     "output_type": "execute_result"
    }
   ],
   "source": [
    "students_gpas.ndim"
   ]
  },
  {
   "cell_type": "code",
   "execution_count": 14,
   "id": "bfe4c1b6",
   "metadata": {},
   "outputs": [
    {
     "data": {
      "text/plain": [
       "(3, 4)"
      ]
     },
     "execution_count": 14,
     "metadata": {},
     "output_type": "execute_result"
    }
   ],
   "source": [
    "students_gpas.shape"
   ]
  },
  {
   "cell_type": "code",
   "execution_count": 15,
   "id": "1b74ebba",
   "metadata": {},
   "outputs": [
    {
     "data": {
      "text/plain": [
       "12"
      ]
     },
     "execution_count": 15,
     "metadata": {},
     "output_type": "execute_result"
    }
   ],
   "source": [
    "students_gpas.size"
   ]
  },
  {
   "cell_type": "code",
   "execution_count": 16,
   "id": "32863e39",
   "metadata": {},
   "outputs": [
    {
     "data": {
      "text/plain": [
       "3"
      ]
     },
     "execution_count": 16,
     "metadata": {},
     "output_type": "execute_result"
    }
   ],
   "source": [
    "len(students_gpas)"
   ]
  },
  {
   "cell_type": "code",
   "execution_count": 17,
   "id": "946f8083",
   "metadata": {},
   "outputs": [
    {
     "data": {
      "text/plain": [
       "2"
      ]
     },
     "execution_count": 17,
     "metadata": {},
     "output_type": "execute_result"
    }
   ],
   "source": [
    "students_gpas.itemsize"
   ]
  },
  {
   "cell_type": "code",
   "execution_count": 18,
   "id": "d480481f",
   "metadata": {},
   "outputs": [
    {
     "name": "stdout",
     "output_type": "stream",
     "text": [
      "Variable        Type       Data/Info\n",
      "------------------------------------\n",
      "gpas            ndarray    4: 4 elems, type `float64`, 32 bytes\n",
      "students_gpas   ndarray    3x4: 12 elems, type `float16`, 24 bytes\n"
     ]
    }
   ],
   "source": [
    "%whos ndarray"
   ]
  },
  {
   "cell_type": "code",
   "execution_count": 19,
   "id": "c0900bfd",
   "metadata": {},
   "outputs": [
    {
     "name": "stdout",
     "output_type": "stream",
     "text": [
      "class:  ndarray\n",
      "shape:  (3, 4)\n",
      "strides:  (8, 2)\n",
      "itemsize:  2\n",
      "aligned:  True\n",
      "contiguous:  True\n",
      "fortran:  False\n",
      "data pointer: 0x262695e22a0\n",
      "byteorder:  little\n",
      "byteswap:  False\n",
      "type: float16\n"
     ]
    }
   ],
   "source": [
    "np.info(students_gpas)"
   ]
  },
  {
   "cell_type": "code",
   "execution_count": 20,
   "id": "bffdf1f3",
   "metadata": {},
   "outputs": [
    {
     "data": {
      "text/plain": [
       "array([3.96, 3.92, 4.  , 4.  ], dtype=float16)"
      ]
     },
     "execution_count": 20,
     "metadata": {},
     "output_type": "execute_result"
    }
   ],
   "source": [
    "students_gpas[2]"
   ]
  },
  {
   "cell_type": "code",
   "execution_count": 21,
   "id": "dd5a1043",
   "metadata": {},
   "outputs": [
    {
     "data": {
      "text/plain": [
       "4.0"
      ]
     },
     "execution_count": 21,
     "metadata": {},
     "output_type": "execute_result"
    }
   ],
   "source": [
    "students_gpas[2][3]"
   ]
  },
  {
   "cell_type": "markdown",
   "id": "06f30656",
   "metadata": {},
   "source": [
    "## About data types\n",
    "* Possible to change data types based on size and if signed to save space"
   ]
  },
  {
   "cell_type": "code",
   "execution_count": 22,
   "id": "691cd611",
   "metadata": {},
   "outputs": [
    {
     "data": {
      "text/plain": [
       "array([0, 0, 0, 0, 0, 0, 0, 0, 0, 0, 0, 0, 0, 0, 0, 0, 0, 0, 0, 0, 0, 0,\n",
       "       0, 0, 0, 0, 0, 0, 0, 0, 0, 0, 0, 0, 0, 0, 0, 0, 0, 0, 0, 0, 0, 0,\n",
       "       0, 0, 0, 0, 0, 0, 0, 0, 0, 0, 0, 0, 0, 0, 0, 0, 0, 0, 0, 0, 0, 0,\n",
       "       0, 0, 0, 0, 0, 0, 0, 0, 0, 0, 0, 0, 0, 0, 0, 0, 0, 0, 0, 0, 0, 0,\n",
       "       0, 0, 0, 0, 0, 0, 0, 0, 0, 0, 0, 0], dtype=uint16)"
      ]
     },
     "execution_count": 22,
     "metadata": {},
     "output_type": "execute_result"
    }
   ],
   "source": [
    "study_minutes = np.zeros(100, np.uint16)\n",
    "study_minutes"
   ]
  },
  {
   "cell_type": "code",
   "execution_count": 23,
   "id": "e93e40da",
   "metadata": {},
   "outputs": [
    {
     "name": "stdout",
     "output_type": "stream",
     "text": [
      "Variable        Type       Data/Info\n",
      "------------------------------------\n",
      "gpas            ndarray    4: 4 elems, type `float64`, 32 bytes\n",
      "gpas_as_list    list       n=4\n",
      "np              module     <module 'numpy' from 'C:\\<...>ges\\\\numpy\\\\__init__.py'>\n",
      "students_gpas   ndarray    3x4: 12 elems, type `float16`, 24 bytes\n",
      "study_minutes   ndarray    100: 100 elems, type `uint16`, 200 bytes\n"
     ]
    }
   ],
   "source": [
    "%whos"
   ]
  },
  {
   "cell_type": "code",
   "execution_count": 24,
   "id": "ee3e7131",
   "metadata": {},
   "outputs": [],
   "source": [
    "study_minutes[0] = 150"
   ]
  },
  {
   "cell_type": "code",
   "execution_count": 25,
   "id": "adcfa019",
   "metadata": {},
   "outputs": [],
   "source": [
    "first_day_minutes  = study_minutes[0]"
   ]
  },
  {
   "cell_type": "code",
   "execution_count": 26,
   "id": "30bcce55",
   "metadata": {},
   "outputs": [
    {
     "data": {
      "text/plain": [
       "150"
      ]
     },
     "execution_count": 26,
     "metadata": {},
     "output_type": "execute_result"
    }
   ],
   "source": [
    "first_day_minutes"
   ]
  },
  {
   "cell_type": "code",
   "execution_count": 27,
   "id": "099ddb95",
   "metadata": {},
   "outputs": [
    {
     "data": {
      "text/plain": [
       "numpy.uint16"
      ]
     },
     "execution_count": 27,
     "metadata": {},
     "output_type": "execute_result"
    }
   ],
   "source": [
    "type(first_day_minutes)"
   ]
  },
  {
   "cell_type": "code",
   "execution_count": 28,
   "id": "c0e8776a",
   "metadata": {},
   "outputs": [],
   "source": [
    "study_minutes[1] = 60"
   ]
  },
  {
   "cell_type": "code",
   "execution_count": 29,
   "id": "10bcb2c8",
   "metadata": {},
   "outputs": [
    {
     "data": {
      "text/plain": [
       "array([150,  60,   0,   0,   0,   0,   0,   0,   0,   0,   0,   0,   0,\n",
       "         0,   0,   0,   0,   0,   0,   0,   0,   0,   0,   0,   0,   0,\n",
       "         0,   0,   0,   0,   0,   0,   0,   0,   0,   0,   0,   0,   0,\n",
       "         0,   0,   0,   0,   0,   0,   0,   0,   0,   0,   0,   0,   0,\n",
       "         0,   0,   0,   0,   0,   0,   0,   0,   0,   0,   0,   0,   0,\n",
       "         0,   0,   0,   0,   0,   0,   0,   0,   0,   0,   0,   0,   0,\n",
       "         0,   0,   0,   0,   0,   0,   0,   0,   0,   0,   0,   0,   0,\n",
       "         0,   0,   0,   0,   0,   0,   0,   0,   0], dtype=uint16)"
      ]
     },
     "execution_count": 29,
     "metadata": {},
     "output_type": "execute_result"
    }
   ],
   "source": [
    "study_minutes"
   ]
  },
  {
   "cell_type": "code",
   "execution_count": 30,
   "id": "65d6b8e9",
   "metadata": {},
   "outputs": [],
   "source": [
    "study_minutes[2:6] = [80,60,30,90]\n"
   ]
  },
  {
   "cell_type": "markdown",
   "id": "1b8fb791",
   "metadata": {},
   "source": [
    "## Common Routines\n",
    "* Common math routines are abstracted away\n",
    "    * mean is a stats routine used to calculate the avg\n",
    "* Reduction function take a diminsion and collapse it into a single value.\n",
    "    * these functions use axis parameter for either columns (axis = 0) or rows (axis = 1)"
   ]
  },
  {
   "cell_type": "code",
   "execution_count": 31,
   "id": "d1fa923c",
   "metadata": {},
   "outputs": [
    {
     "data": {
      "text/plain": [
       "3.723"
      ]
     },
     "execution_count": 31,
     "metadata": {},
     "output_type": "execute_result"
    }
   ],
   "source": [
    "students_gpas.mean()"
   ]
  },
  {
   "cell_type": "code",
   "execution_count": 94,
   "id": "f4184699",
   "metadata": {},
   "outputs": [
    {
     "data": {
      "text/plain": [
       "array([3.695, 3.5  , 3.97 ], dtype=float16)"
      ]
     },
     "execution_count": 94,
     "metadata": {},
     "output_type": "execute_result"
    }
   ],
   "source": [
    "students_gpas.mean(axis=1)"
   ]
  },
  {
   "cell_type": "code",
   "execution_count": 96,
   "id": "5af0bca0",
   "metadata": {},
   "outputs": [
    {
     "data": {
      "text/plain": [
       "[]"
      ]
     },
     "execution_count": 96,
     "metadata": {},
     "output_type": "execute_result"
    },
    {
     "data": {
      "image/png": "[encoded data removed]",
      "text/plain": [
       "<Figure size 640x480 with 1 Axes>"
      ]
     },
     "metadata": {},
     "output_type": "display_data"
    }
   ],
   "source": [
    "plt.boxplot(students_gpas.T)\n",
    "plt.plot()"
   ]
  },
  {
   "cell_type": "code",
   "execution_count": null,
   "id": "188e52ff",
   "metadata": {},
   "outputs": [],
   "source": []
  },
  {
   "cell_type": "markdown",
   "id": "d8b9bc9f",
   "metadata": {},
   "source": [
    "## Creation\n",
    "* Random state: a seed for rng to start at\n",
    "* Appending row: have to use np.append since ndarrays are immutable\n",
    "## Indexing\n",
    "* Shortcut(tuple): use a tuple instead of seperate brackets \n",
    "* Fancy Indexing: making ndarrays subsets from other ndarrays"
   ]
  },
  {
   "cell_type": "code",
   "execution_count": 33,
   "id": "b1723a2f",
   "metadata": {},
   "outputs": [],
   "source": [
    "study_minutes = np.array([\n",
    "    study_minutes,\n",
    "    np.zeros(100, np.uint16)\n",
    "])"
   ]
  },
  {
   "cell_type": "code",
   "execution_count": 34,
   "id": "d5132fd2",
   "metadata": {},
   "outputs": [
    {
     "data": {
      "text/plain": [
       "(2, 100)"
      ]
     },
     "execution_count": 34,
     "metadata": {},
     "output_type": "execute_result"
    }
   ],
   "source": [
    "study_minutes.shape\n"
   ]
  },
  {
   "cell_type": "code",
   "execution_count": 35,
   "id": "4084aa15",
   "metadata": {},
   "outputs": [],
   "source": [
    "study_minutes[1][0]= 60"
   ]
  },
  {
   "cell_type": "code",
   "execution_count": 36,
   "id": "f1d80071",
   "metadata": {},
   "outputs": [
    {
     "data": {
      "text/plain": [
       "60"
      ]
     },
     "execution_count": 36,
     "metadata": {},
     "output_type": "execute_result"
    }
   ],
   "source": [
    "study_minutes[1,0]"
   ]
  },
  {
   "cell_type": "code",
   "execution_count": 37,
   "id": "61d23837",
   "metadata": {},
   "outputs": [
    {
     "data": {
      "text/plain": [
       "array([132, 122, 128,  44, 136, 129, 101,  95,  50, 132, 151,  64, 104,\n",
       "       175, 117, 146, 139, 129, 133, 176,  98, 160, 179,  99,  82, 142,\n",
       "        31, 106, 117,  56,  98,  67, 121, 159,  81, 170,  31,  50,  49,\n",
       "        87, 179,  51, 116, 177, 118,  78, 171, 117,  88, 123, 102,  44,\n",
       "        79,  31, 108,  80,  59, 137,  84,  93, 155, 160,  67,  80, 166,\n",
       "       164,  70,  50, 102, 113,  47, 131, 161, 118,  82,  89,  81,  43,\n",
       "        81,  38, 119,  52,  82,  31, 159,  57, 113,  71, 121, 140,  91,\n",
       "        70,  37, 106,  64, 127, 110,  58,  93,  79], dtype=uint16)"
      ]
     },
     "execution_count": 37,
     "metadata": {},
     "output_type": "execute_result"
    }
   ],
   "source": [
    "rand = np.random.RandomState(42)\n",
    "fake_log = rand.randint(30, 180, size = 100, dtype=np.uint16)\n",
    "fake_log"
   ]
  },
  {
   "cell_type": "code",
   "execution_count": 38,
   "id": "e81345f6",
   "metadata": {},
   "outputs": [
    {
     "data": {
      "text/plain": [
       "[44, 50]"
      ]
     },
     "execution_count": 38,
     "metadata": {},
     "output_type": "execute_result"
    }
   ],
   "source": [
    "[fake_log[3], fake_log[8]]"
   ]
  },
  {
   "cell_type": "code",
   "execution_count": 39,
   "id": "969a5823",
   "metadata": {},
   "outputs": [
    {
     "data": {
      "text/plain": [
       "array([44, 50], dtype=uint16)"
      ]
     },
     "execution_count": 39,
     "metadata": {},
     "output_type": "execute_result"
    }
   ],
   "source": [
    "fake_log[[3,8]]"
   ]
  },
  {
   "cell_type": "code",
   "execution_count": 40,
   "id": "f967e8d7",
   "metadata": {},
   "outputs": [
    {
     "data": {
      "text/plain": [
       "array([[ 44,  50],\n",
       "       [132, 122]], dtype=uint16)"
      ]
     },
     "execution_count": 40,
     "metadata": {},
     "output_type": "execute_result"
    }
   ],
   "source": [
    "index = np.array([\n",
    "    [3,8],\n",
    "    [0,1]\n",
    "])\n",
    "fake_log[index]"
   ]
  },
  {
   "cell_type": "code",
   "execution_count": 41,
   "id": "bffc8deb",
   "metadata": {},
   "outputs": [],
   "source": [
    "study_minutes = np.append(study_minutes, [fake_log], axis = 0)"
   ]
  },
  {
   "cell_type": "code",
   "execution_count": 42,
   "id": "cf327801",
   "metadata": {},
   "outputs": [],
   "source": [
    "study_minutes[1,1] = 360"
   ]
  },
  {
   "cell_type": "code",
   "execution_count": 43,
   "id": "b58c0bcc",
   "metadata": {},
   "outputs": [
    {
     "data": {
      "text/plain": [
       "array([44, 50, 31, 56, 31, 50, 49, 51, 44, 31, 59, 50, 47, 43, 38, 52, 31,\n",
       "       57, 37, 58], dtype=uint16)"
      ]
     },
     "execution_count": 43,
     "metadata": {},
     "output_type": "execute_result"
    }
   ],
   "source": [
    "fake_log[fake_log < 60]"
   ]
  },
  {
   "cell_type": "code",
   "execution_count": 44,
   "id": "36829ded",
   "metadata": {},
   "outputs": [
    {
     "data": {
      "text/plain": [
       "array([118, 102,  67,  59,  67, 102, 123,  44, 118,  67,  93, 102, 117,\n",
       "       177,  49,  79,  67, 137,  50,  84], dtype=uint16)"
      ]
     },
     "execution_count": 44,
     "metadata": {},
     "output_type": "execute_result"
    }
   ],
   "source": [
    "results = []\n",
    "for i in fake_log:\n",
    "    if i < 60:\n",
    "        results.append(i)\n",
    "fake_log[results]"
   ]
  },
  {
   "cell_type": "markdown",
   "id": "6b8e3592",
   "metadata": {},
   "source": [
    "## Boolean Array Indexing\n",
    "* You can create a boolean array by using comparison operators on an array.\n",
    "    * You can use boolean arrays for fancy indexing.\n",
    "    * Boolean arrays can be compared by using bitwise operator ( & , | )\n",
    "        Do not use the and keyword and remember order\n",
    "* Even though boolean indexing returns a new array, you can update an existing array using a boolean index."
   ]
  },
  {
   "cell_type": "code",
   "execution_count": 45,
   "id": "5336d4ec",
   "metadata": {},
   "outputs": [
    {
     "data": {
      "text/plain": [
       "array([30,  0,  0,  0,  0,  0,  0,  0,  0,  0,  0,  0,  0,  0,  0,  0,  0,\n",
       "        0,  0,  0,  0,  0,  0,  0,  0,  0,  0,  0,  0,  0,  0,  0,  0,  0,\n",
       "        0,  0,  0,  0,  0,  0,  0,  0,  0,  0,  0,  0,  0,  0,  0,  0,  0,\n",
       "        0,  0,  0,  0,  0,  0,  0,  0,  0,  0,  0,  0,  0,  0,  0,  0,  0,\n",
       "        0,  0,  0,  0,  0,  0,  0,  0,  0,  0,  0,  0,  0,  0,  0,  0,  0,\n",
       "        0,  0,  0,  0,  0,  0,  0,  0,  0,  0,  0,  0,  0,  0,  0,  0,  0,\n",
       "        0,  0,  0,  0,  0,  0,  0,  0,  0,  0,  0,  0,  0,  0,  0,  0,  0,\n",
       "        0,  0,  0,  0,  0,  0,  0,  0,  0,  0,  0,  0,  0,  0,  0,  0,  0,\n",
       "        0,  0,  0,  0,  0,  0,  0,  0,  0,  0,  0,  0,  0,  0,  0,  0,  0,\n",
       "        0,  0,  0,  0,  0,  0,  0,  0,  0,  0,  0,  0,  0,  0,  0,  0,  0,\n",
       "        0,  0,  0,  0,  0,  0,  0,  0,  0,  0,  0,  0,  0,  0,  0,  0,  0,\n",
       "        0,  0,  0,  0,  0,  0, 44, 50, 31, 56, 31, 50, 49, 51, 44, 31, 59,\n",
       "       50, 47, 43, 38, 52, 31, 57, 37, 58], dtype=uint16)"
      ]
     },
     "execution_count": 45,
     "metadata": {},
     "output_type": "execute_result"
    }
   ],
   "source": [
    "study_minutes[study_minutes < 60]"
   ]
  },
  {
   "cell_type": "code",
   "execution_count": 46,
   "id": "02747c73",
   "metadata": {},
   "outputs": [
    {
     "data": {
      "text/plain": [
       "array([False, False,  True])"
      ]
     },
     "execution_count": 46,
     "metadata": {},
     "output_type": "execute_result"
    }
   ],
   "source": [
    "np.array([False, True, True]) & np.array([True, False, True])"
   ]
  },
  {
   "cell_type": "code",
   "execution_count": 47,
   "id": "bd41060d",
   "metadata": {},
   "outputs": [
    {
     "data": {
      "text/plain": [
       "array([30, 44, 50, 31, 56, 31, 50, 49, 51, 44, 31, 59, 50, 47, 43, 38, 52,\n",
       "       31, 57, 37, 58], dtype=uint16)"
      ]
     },
     "execution_count": 47,
     "metadata": {},
     "output_type": "execute_result"
    }
   ],
   "source": [
    "study_minutes[(study_minutes < 60) & (study_minutes > 0)]"
   ]
  },
  {
   "cell_type": "code",
   "execution_count": 48,
   "id": "28a6f1b2",
   "metadata": {},
   "outputs": [],
   "source": [
    "study_minutes[study_minutes < 60] = 0"
   ]
  },
  {
   "cell_type": "code",
   "execution_count": 49,
   "id": "73656984",
   "metadata": {},
   "outputs": [
    {
     "data": {
      "text/plain": [
       "array([132, 122, 128,   0, 136, 129, 101,  95,   0, 132, 151,  64, 104,\n",
       "       175, 117, 146, 139, 129, 133, 176,  98, 160, 179,  99,  82, 142,\n",
       "         0, 106, 117,   0,  98,  67, 121, 159,  81, 170,   0,   0,   0,\n",
       "        87, 179,   0, 116, 177, 118,  78, 171, 117,  88, 123, 102,   0,\n",
       "        79,   0, 108,  80,   0, 137,  84,  93, 155, 160,  67,  80, 166,\n",
       "       164,  70,   0, 102, 113,   0, 131, 161, 118,  82,  89,  81,   0,\n",
       "        81,   0, 119,   0,  82,   0, 159,   0, 113,  71, 121, 140,  91,\n",
       "        70,   0, 106,  64, 127, 110,   0,  93,  79], dtype=uint16)"
      ]
     },
     "execution_count": 49,
     "metadata": {},
     "output_type": "execute_result"
    }
   ],
   "source": [
    "study_minutes[2]"
   ]
  },
  {
   "cell_type": "code",
   "execution_count": 50,
   "id": "c114c2d0",
   "metadata": {},
   "outputs": [
    {
     "data": {
      "text/plain": [
       "440"
      ]
     },
     "execution_count": 50,
     "metadata": {},
     "output_type": "execute_result"
    }
   ],
   "source": [
    "np.add.reduce(study_minutes[0])"
   ]
  },
  {
   "cell_type": "code",
   "execution_count": 51,
   "id": "82611ec6",
   "metadata": {},
   "outputs": [
    {
     "data": {
      "text/plain": [
       "array([150, 210, 290, 350, 350, 440, 440, 440, 440, 440, 440, 440, 440,\n",
       "       440, 440, 440, 440, 440, 440, 440, 440, 440, 440, 440, 440, 440,\n",
       "       440, 440, 440, 440, 440, 440, 440, 440, 440, 440, 440, 440, 440,\n",
       "       440, 440, 440, 440, 440, 440, 440, 440, 440, 440, 440, 440, 440,\n",
       "       440, 440, 440, 440, 440, 440, 440, 440, 440, 440, 440, 440, 440,\n",
       "       440, 440, 440, 440, 440, 440, 440, 440, 440, 440, 440, 440, 440,\n",
       "       440, 440, 440, 440, 440, 440, 440, 440, 440, 440, 440, 440, 440,\n",
       "       440, 440, 440, 440, 440, 440, 440, 440, 440], dtype=uint32)"
      ]
     },
     "execution_count": 51,
     "metadata": {},
     "output_type": "execute_result"
    }
   ],
   "source": [
    "np.add.accumulate(study_minutes[0])"
   ]
  },
  {
   "cell_type": "code",
   "execution_count": 52,
   "id": "0d09925f",
   "metadata": {},
   "outputs": [
    {
     "data": {
      "text/plain": [
       "440"
      ]
     },
     "execution_count": 52,
     "metadata": {},
     "output_type": "execute_result"
    }
   ],
   "source": [
    "np.sum(study_minutes[0])"
   ]
  },
  {
   "cell_type": "code",
   "execution_count": 53,
   "id": "e37569e4",
   "metadata": {},
   "outputs": [
    {
     "data": {
      "text/plain": [
       "array([ 440,  420, 9290], dtype=uint32)"
      ]
     },
     "execution_count": 53,
     "metadata": {},
     "output_type": "execute_result"
    }
   ],
   "source": [
    "np.sum(study_minutes, axis = 1)"
   ]
  },
  {
   "cell_type": "code",
   "execution_count": 98,
   "id": "6e8bf0d6",
   "metadata": {},
   "outputs": [
    {
     "data": {
      "text/plain": [
       "(array([26., 25., 18., 17.,  0.,  0.,  0.,  0.,  0.,  1.]),\n",
       " array([ 60.,  90., 120., 150., 180., 210., 240., 270., 300., 330., 360.]),\n",
       " <BarContainer object of 10 artists>)"
      ]
     },
     "execution_count": 98,
     "metadata": {},
     "output_type": "execute_result"
    },
    {
     "data": {
      "image/png": "[encoded data removed]",
      "text/plain": [
       "<Figure size 640x480 with 1 Axes>"
      ]
     },
     "metadata": {},
     "output_type": "display_data"
    }
   ],
   "source": [
    "plt.hist(study_minutes[study_minutes > 0])"
   ]
  },
  {
   "cell_type": "code",
   "execution_count": null,
   "id": "623b57e0",
   "metadata": {},
   "outputs": [],
   "source": []
  },
  {
   "cell_type": "markdown",
   "id": "b7e2d873",
   "metadata": {},
   "source": [
    "## Slicing \n",
    "* ndarrays make views instead of copies when slicing\n",
    "* changing the slice changes the original\n",
    "* you can use commas to separate each dimension slice\n",
    "* you can access the base object using the ndarray.base property\n"
   ]
  },
  {
   "cell_type": "code",
   "execution_count": 54,
   "id": "2eddacd6",
   "metadata": {},
   "outputs": [],
   "source": [
    "fruit = [\"apple\", \"banana\", \"cherry\", \"durian\"]"
   ]
  },
  {
   "cell_type": "code",
   "execution_count": 55,
   "id": "6cd7e9e8",
   "metadata": {},
   "outputs": [
    {
     "data": {
      "text/plain": [
       "['banana', 'cherry']"
      ]
     },
     "execution_count": 55,
     "metadata": {},
     "output_type": "execute_result"
    }
   ],
   "source": [
    "fruit[1:3]"
   ]
  },
  {
   "cell_type": "code",
   "execution_count": 56,
   "id": "4e1cffe3",
   "metadata": {},
   "outputs": [
    {
     "data": {
      "text/plain": [
       "['apple', 'banana', 'cherry']"
      ]
     },
     "execution_count": 56,
     "metadata": {},
     "output_type": "execute_result"
    }
   ],
   "source": [
    "fruit[:3]"
   ]
  },
  {
   "cell_type": "code",
   "execution_count": 57,
   "id": "a336a877",
   "metadata": {},
   "outputs": [
    {
     "data": {
      "text/plain": [
       "['durian']"
      ]
     },
     "execution_count": 57,
     "metadata": {},
     "output_type": "execute_result"
    }
   ],
   "source": [
    "fruit[3:]"
   ]
  },
  {
   "cell_type": "code",
   "execution_count": 58,
   "id": "37bdf2b2",
   "metadata": {},
   "outputs": [
    {
     "data": {
      "text/plain": [
       "['apple', 'banana', 'cherry', 'durian']"
      ]
     },
     "execution_count": 58,
     "metadata": {},
     "output_type": "execute_result"
    }
   ],
   "source": [
    "fruit[:]"
   ]
  },
  {
   "cell_type": "code",
   "execution_count": 59,
   "id": "298d1e28",
   "metadata": {},
   "outputs": [],
   "source": [
    "copied = fruit[:]"
   ]
  },
  {
   "cell_type": "code",
   "execution_count": 60,
   "id": "e4861501",
   "metadata": {},
   "outputs": [
    {
     "data": {
      "text/plain": [
       "(['apple', 'banana', 'cherry', 'durian'],\n",
       " ['apple', 'banana', 'cherry', 'cheese'])"
      ]
     },
     "execution_count": 60,
     "metadata": {},
     "output_type": "execute_result"
    }
   ],
   "source": [
    "copied[3] = \"cheese\"\n",
    "# slicing a list return a copy\n",
    "fruit, copied"
   ]
  },
  {
   "cell_type": "code",
   "execution_count": 61,
   "id": "30fc62b0",
   "metadata": {},
   "outputs": [
    {
     "data": {
      "text/plain": [
       "['apple', 'cherry']"
      ]
     },
     "execution_count": 61,
     "metadata": {},
     "output_type": "execute_result"
    }
   ],
   "source": [
    "fruit[::2]"
   ]
  },
  {
   "cell_type": "code",
   "execution_count": 62,
   "id": "e75ec839",
   "metadata": {},
   "outputs": [
    {
     "data": {
      "text/plain": [
       "['durian', 'cherry', 'banana', 'apple']"
      ]
     },
     "execution_count": 62,
     "metadata": {},
     "output_type": "execute_result"
    }
   ],
   "source": [
    "fruit[::-1]"
   ]
  },
  {
   "cell_type": "code",
   "execution_count": 63,
   "id": "96baa19e",
   "metadata": {},
   "outputs": [
    {
     "data": {
      "text/plain": [
       "array([ 0,  1,  2,  3,  4,  5,  6,  7,  8,  9, 10, 11, 12, 13, 14, 15, 16,\n",
       "       17, 18, 19])"
      ]
     },
     "execution_count": 63,
     "metadata": {},
     "output_type": "execute_result"
    }
   ],
   "source": [
    "np.arange(20)"
   ]
  },
  {
   "cell_type": "code",
   "execution_count": 64,
   "id": "30c9ff88",
   "metadata": {},
   "outputs": [
    {
     "data": {
      "text/plain": [
       "array([[ 0,  1,  2,  3,  4,  5],\n",
       "       [ 6,  7,  8,  9, 10, 11],\n",
       "       [12, 13, 14, 15, 16, 17],\n",
       "       [18, 19, 20, 21, 22, 23],\n",
       "       [24, 25, 26, 27, 28, 29],\n",
       "       [30, 31, 32, 33, 34, 35],\n",
       "       [36, 37, 38, 39, 40, 41]])"
      ]
     },
     "execution_count": 64,
     "metadata": {},
     "output_type": "execute_result"
    }
   ],
   "source": [
    "practice = np.arange(42)\n",
    "practice.shape = (7,6)\n",
    "practice"
   ]
  },
  {
   "cell_type": "code",
   "execution_count": 65,
   "id": "5dffe3d8",
   "metadata": {},
   "outputs": [
    {
     "data": {
      "text/plain": [
       "array([[12, 13, 14, 15, 16, 17],\n",
       "       [18, 19, 20, 21, 22, 23],\n",
       "       [24, 25, 26, 27, 28, 29]])"
      ]
     },
     "execution_count": 65,
     "metadata": {},
     "output_type": "execute_result"
    }
   ],
   "source": [
    "practice[2:5]"
   ]
  },
  {
   "cell_type": "code",
   "execution_count": 66,
   "id": "c033d2ba",
   "metadata": {},
   "outputs": [
    {
     "data": {
      "text/plain": [
       "array([[15, 17],\n",
       "       [21, 23],\n",
       "       [27, 29]])"
      ]
     },
     "execution_count": 66,
     "metadata": {},
     "output_type": "execute_result"
    }
   ],
   "source": [
    "practice[2:5,3::2]"
   ]
  },
  {
   "cell_type": "code",
   "execution_count": 67,
   "id": "f6f0615a",
   "metadata": {},
   "outputs": [
    {
     "data": {
      "text/plain": [
       "(array([[90210,     1,     2,     3,     4,     5],\n",
       "        [    6,     7,     8,     9,    10,    11],\n",
       "        [   12,    13,    14,    15,    16,    17],\n",
       "        [   18,    19,    20,    21,    22,    23],\n",
       "        [   24,    25,    26,    27,    28,    29],\n",
       "        [   30,    31,    32,    33,    34,    35],\n",
       "        [   36,    37,    38,    39,    40,    41]]),\n",
       " array([[90210,     1,     2,     3,     4,     5],\n",
       "        [    6,     7,     8,     9,    10,    11],\n",
       "        [   12,    13,    14,    15,    16,    17],\n",
       "        [   18,    19,    20,    21,    22,    23],\n",
       "        [   24,    25,    26,    27,    28,    29],\n",
       "        [   30,    31,    32,    33,    34,    35],\n",
       "        [   36,    37,    38,    39,    40,    41]]))"
      ]
     },
     "execution_count": 67,
     "metadata": {},
     "output_type": "execute_result"
    }
   ],
   "source": [
    "# Any slicing of ndarray returns a view and not a copy!\n",
    "not_copied = practice[:] \n",
    "not_copied[0,0] = 90210\n",
    "practice, not_copied"
   ]
  },
  {
   "cell_type": "code",
   "execution_count": 68,
   "id": "e7de3584",
   "metadata": {},
   "outputs": [
    {
     "data": {
      "text/plain": [
       "True"
      ]
     },
     "execution_count": 68,
     "metadata": {},
     "output_type": "execute_result"
    }
   ],
   "source": [
    "practice.base is None"
   ]
  },
  {
   "cell_type": "code",
   "execution_count": 69,
   "id": "cf3d7ebc",
   "metadata": {},
   "outputs": [
    {
     "data": {
      "text/plain": [
       "False"
      ]
     },
     "execution_count": 69,
     "metadata": {},
     "output_type": "execute_result"
    }
   ],
   "source": [
    "not_copied.base is None"
   ]
  },
  {
   "cell_type": "code",
   "execution_count": 70,
   "id": "81d503a6",
   "metadata": {},
   "outputs": [
    {
     "data": {
      "text/plain": [
       "True"
      ]
     },
     "execution_count": 70,
     "metadata": {},
     "output_type": "execute_result"
    }
   ],
   "source": [
    "not_copied.base is practice"
   ]
  },
  {
   "cell_type": "code",
   "execution_count": 71,
   "id": "6b8e8738",
   "metadata": {},
   "outputs": [
    {
     "data": {
      "text/plain": [
       "(True, False)"
      ]
     },
     "execution_count": 71,
     "metadata": {},
     "output_type": "execute_result"
    }
   ],
   "source": [
    "practice.flags[\"OWNDATA\"], not_copied.flags[\"OWNDATA\"]"
   ]
  },
  {
   "cell_type": "code",
   "execution_count": 72,
   "id": "3eb9b7a1",
   "metadata": {},
   "outputs": [
    {
     "data": {
      "text/plain": [
       "(array([[90210,     1,     2,     3,     4,     5],\n",
       "        [    6,     7,     8,     9,    10,    11],\n",
       "        [   12,    13,    14,    15,    16,    17],\n",
       "        [   18,    19,    20,    21,    22,    23],\n",
       "        [   24,    25,    26,    27,    28,    29],\n",
       "        [   30,    31,    32,    33,    34,    35],\n",
       "        [   36,    37,    38,    39,    40,    41]]),\n",
       " array([[90210,     1,     2,     3,     4,     5,     6,     7,     8,\n",
       "             9,    10,    11,    12,    13],\n",
       "        [   14,    15,    16,    17,    18,    19,    20,    21,    22,\n",
       "            23,    24,    25,    26,    27],\n",
       "        [   28,    29,    30,    31,    32,    33,    34,    35,    36,\n",
       "            37,    38,    39,    40,    41]]),\n",
       " True)"
      ]
     },
     "execution_count": 72,
     "metadata": {},
     "output_type": "execute_result"
    }
   ],
   "source": [
    "practice_view = practice.reshape(3,14)\n",
    "practice, practice_view, practice_view.base is practice"
   ]
  },
  {
   "cell_type": "code",
   "execution_count": 73,
   "id": "b782e28f",
   "metadata": {},
   "outputs": [
    {
     "data": {
      "text/plain": [
       "(21, 2)"
      ]
     },
     "execution_count": 73,
     "metadata": {},
     "output_type": "execute_result"
    }
   ],
   "source": [
    "practice.reshape(-1,2).shape"
   ]
  },
  {
   "cell_type": "code",
   "execution_count": 74,
   "id": "d1b18d62",
   "metadata": {},
   "outputs": [
    {
     "data": {
      "text/plain": [
       "array([90210,     1,     2,     3,     4,     5,     6,     7,     8,\n",
       "           9,    10,    11,    12,    13,    14,    15,    16,    17,\n",
       "          18,    19,    20,    21,    22,    23,    24,    25,    26,\n",
       "          27,    28,    29,    30,    31,    32,    33,    34,    35,\n",
       "          36,    37,    38,    39,    40,    41])"
      ]
     },
     "execution_count": 74,
     "metadata": {},
     "output_type": "execute_result"
    }
   ],
   "source": [
    "practice.ravel()"
   ]
  },
  {
   "cell_type": "code",
   "execution_count": 75,
   "id": "e3d54a9f",
   "metadata": {},
   "outputs": [
    {
     "name": "stdout",
     "output_type": "stream",
     "text": [
      "Search results for 'flat'\n",
      "-------------------------\n",
      "numpy.diagflat\n",
      "    Create a two-dimensional array with the flattened input as a diagonal.\n",
      "numpy.flatiter\n",
      "    Flat iterator object to iterate over arrays.\n",
      "numpy.put\n",
      "    Replaces specified elements of an array with given values.\n",
      "numpy.flatnonzero\n",
      "    Return indices that are non-zero in the flattened version of a.\n",
      "numpy.ravel\n",
      "    Return a contiguous flattened array.\n",
      "numpy.bool8.flatten\n",
      "    Scalar method identical to the corresponding array attribute.\n",
      "numpy.ma.diagflat\n",
      "    Create a two-dimensional array with the flattened input as a diagonal.\n",
      "numpy.unravel_index\n",
      "    Converts a flat index or array of flat indices into a tuple\n",
      "numpy.matrix.flatten\n",
      "    Return a flattened copy of the matrix.\n",
      "numpy.ma.flatten_mask\n",
      "    Returns a completely flattened version of the mask, where nested fields\n",
      "numpy.chararray.flatten\n",
      "    Return a copy of the array collapsed into one dimension.\n",
      "numpy.chararray.put\n",
      "    Set ``a.flat[n] = values[n]`` for all `n` in indices.\n",
      "numpy.ravel_multi_index\n",
      "    Converts a tuple of index arrays into an array of flat\n",
      "numpy.matrix.getA1\n",
      "    Return `self` as a flattened `ndarray`.\n",
      "numpy.matrix.ravel\n",
      "    Return a flattened matrix.\n",
      "numpy.chararray.ravel\n",
      "    a.ravel([order])\n",
      "numpy.rec.fromarrays\n",
      "    Create a record array from a (flat) list of arrays\n",
      "numpy.ma.flatten_structured_array\n",
      "    Flatten a structured array.\n",
      "numpy.ma.MaskedArray.flatten\n",
      "    Return a copy of the array collapsed into one dimension.\n",
      "numpy.ma.MaskedArray.put\n",
      "    Set storage-indexed locations to corresponding values.\n",
      "numpy.ma.mrecords.fromarrays\n",
      "    Creates a mrecarray from a (flat) list of masked arrays.\n",
      "numpy.lib.recfunctions.flatten_descr\n",
      "    Flatten a structured data-type description.\n",
      "numpy.lib.recfunctions.get_names_flat\n",
      "    Returns the field names of the input datatype as a tuple. Input datatype\n",
      "numpy.ptp\n",
      "    Range of values (maximum - minimum) along an axis.\n",
      "numpy.std\n",
      "    Compute the standard deviation along the specified axis.\n",
      "numpy.var\n",
      "    Compute the variance along the specified axis.\n",
      "numpy.amax\n",
      "    Return the maximum of an array or maximum along an axis.\n",
      "numpy.amin\n",
      "    Return the minimum of an array or minimum along an axis.\n",
      "numpy.diag\n",
      "    Extract a diagonal or construct a diagonal array.\n",
      "numpy.isin\n",
      "    Calculates ``element in test_elements``, broadcasting over `element` only.\n",
      "numpy.mean\n",
      "    Compute the arithmetic mean along the specified axis.\n",
      "numpy.roll\n",
      "    Roll array elements along a given axis.\n",
      "numpy.sort\n",
      "    Return a sorted copy of an array.\n",
      "numpy.take\n",
      "    Take elements from an array along an axis.\n",
      "numpy.vdot\n",
      "    Return the dot product of two vectors.\n",
      "numpy.outer\n",
      "    Compute the outer product of two vectors.\n",
      "numpy.trace\n",
      "    Return the sum along diagonals of the array.\n",
      "numpy.append\n",
      "    Append values to the end of an array.\n",
      "numpy.argmax\n",
      "    Returns the indices of the maximum values along an axis.\n",
      "numpy.argmin\n",
      "    Returns the indices of the minimum values along an axis.\n",
      "numpy.cumsum\n",
      "    Return the cumulative sum of the elements along a given axis.\n",
      "numpy.delete\n",
      "    Return a new array with sub-arrays along an axis deleted. For a one\n",
      "numpy.einsum\n",
      "    einsum(subscripts, *operands, out=None, dtype=None, order='K',\n",
      "numpy.insert\n",
      "    Insert values along the given axis before the given indices.\n",
      "numpy.median\n",
      "    Compute the median along the specified axis.\n",
      "numpy.nanmax\n",
      "    Return the maximum of an array or maximum along an axis, ignoring any\n",
      "numpy.nanmin\n",
      "    Return minimum of an array or minimum along an axis, ignoring any NaNs.\n",
      "numpy.nanstd\n",
      "    Compute the standard deviation along the specified axis, while\n",
      "numpy.nansum\n",
      "    Return the sum of array elements over a given axis treating Not a\n",
      "numpy.nanvar\n",
      "    Compute the variance along the specified axis, while ignoring NaNs.\n",
      "numpy.nditer\n",
      "    Efficient multi-dimensional iterator object to iterate over arrays.\n",
      "numpy.repeat\n",
      "    Repeat elements of an array.\n",
      "numpy.unique\n",
      "    Find the unique elements of an array.\n",
      "numpy.argsort\n",
      "    Returns the indices that would sort an array.\n",
      "numpy.cumprod\n",
      "    Return the cumulative product of elements along a given axis.\n",
      "numpy.ediff1d\n",
      "    The differences between consecutive elements of an array.\n",
      "numpy.core._multiarray_umath.unravel_index\n",
      "    Converts a flat index or array of flat indices into a tuple\n",
      "numpy.nanmean\n",
      "    Compute the arithmetic mean along the specified axis, ignoring NaNs.\n",
      "numpy.nanprod\n",
      "    Return the product of array elements over a given axis treating Not a\n",
      "numpy.ndarray\n",
      "    ndarray(shape, dtype=float, buffer=None, offset=0,\n",
      "numpy.ndindex\n",
      "    An N-dimensional iterator object to index arrays.\n",
      "numpy.nonzero\n",
      "    Return the indices of the elements that are non-zero.\n",
      "numpy.putmask\n",
      "    Changes elements of an array based on conditional and input values.\n",
      "numpy.union1d\n",
      "    Find the union of two arrays.\n",
      "numpy.compress\n",
      "    Return selected slices of an array along given axis.\n",
      "numpy.diagonal\n",
      "    Return specified diagonals.\n",
      "numpy.packbits\n",
      "    Packs the elements of a binary-valued array into bits in a uint8 array.\n",
      "numpy.quantile\n",
      "    Compute the q-th quantile of the data along the specified axis.\n",
      "numpy.broadcast\n",
      "    Produce an object that mimics broadcasting.\n",
      "numpy.chararray\n",
      "    chararray(shape, itemsize=1, unicode=False, buffer=None, offset=0,\n",
      "numpy.histogram\n",
      "    Compute the histogram of a dataset.\n",
      "numpy.nanargmax\n",
      "    Return the indices of the maximum values in the specified axis ignoring\n",
      "numpy.nanargmin\n",
      "    Return the indices of the minimum values in the specified axis ignoring\n",
      "numpy.nancumsum\n",
      "    Return the cumulative sum of array elements over a given axis treating Not a\n",
      "numpy.nanmedian\n",
      "    Compute the median along the specified axis, while ignoring NaNs.\n",
      "numpy.partition\n",
      "    Return a partitioned copy of an array.\n",
      "numpy.nancumprod\n",
      "    Return the cumulative product of array elements over a given axis treating Not a\n",
      "numpy.percentile\n",
      "    Compute the q-th percentile of the data along the specified axis.\n",
      "numpy.unpackbits\n",
      "    Unpacks elements of a uint8 array into a binary-valued output array.\n",
      "numpy.concatenate\n",
      "    Join a sequence of arrays along an existing axis.\n",
      "numpy.core._multiarray_umath.ravel_multi_index\n",
      "    Converts a tuple of index arrays into an array of flat\n",
      "numpy.intersect1d\n",
      "    Find the intersection of two arrays.\n",
      "numpy.nanquantile\n",
      "    Compute the qth quantile of the data along the specified axis,\n",
      "numpy.ndenumerate\n",
      "    Multidimensional index iterator.\n",
      "numpy.argpartition\n",
      "    Perform an indirect partition along the given axis using the\n",
      "numpy.flatiter.copy\n",
      "    copy()\n",
      "numpy.ma.max\n",
      "    Return the maximum along a given axis.\n",
      "numpy.ma.min\n",
      "    Return the minimum along a given axis.\n",
      "numpy.ma.ptp\n",
      "    Return (maximum - minimum) along the given dimension\n",
      "numpy.nested_iters\n",
      "    Create nditers for use in nested loops\n",
      "numpy.ma.var\n",
      "    Compute the variance along the specified axis.\n",
      "numpy.count_nonzero\n",
      "    Counts the number of non-zero values in the array ``a``.\n",
      "numpy.ma.anom\n",
      "    Compute the anomalies (deviations from the arithmetic mean)\n",
      "numpy.fill_diagonal\n",
      "    Fill the main diagonal of the given array of any dimensionality.\n",
      "numpy.ma.isin\n",
      "    Calculates `element in test_elements`, broadcasting over\n",
      "numpy.nanpercentile\n",
      "    Compute the qth percentile of the data along the specified axis,\n",
      "numpy.ma.outer\n",
      "    Compute the outer product of two vectors.\n",
      "numpy.put_along_axis\n",
      "    Put values into the destination array by matching 1d index and data slices.\n",
      "numpy.ma.append\n",
      "    Append values to the end of an array.\n",
      "numpy.ma.argmax\n",
      "    Returns array of indices of the maximum values along the given axis.\n",
      "numpy.ma.argmin\n",
      "    Return array of indices to the minimum values along the given axis.\n",
      "numpy.ma.median\n",
      "    Compute the median along the specified axis.\n",
      "numpy.take_along_axis\n",
      "    Take values from the input array by matching 1d index and data slices.\n",
      "numpy.ma.argsort\n",
      "    Return an ndarray of indices that sort the array along the\n",
      "numpy.ma.average\n",
      "    Return the weighted average of array over the given axis.\n",
      "numpy.ma.nonzero\n",
      "    nonzero(self)\n",
      "numpy.savez_compressed\n",
      "    Save several arrays into a single file in compressed ``.npz`` format.\n",
      "numpy.ma.tests.test_subclassing.CSAIterator\n",
      "    Flat iterator object that uses its own setter/getter\n",
      "numpy.chararray.item\n",
      "    a.item(*args)\n",
      "numpy.histogram_bin_edges\n",
      "    Function to calculate only the edges of the bins used by the `histogram`\n",
      "numpy.matrix.argmax\n",
      "    Indexes of the maximum values along an axis.\n",
      "numpy.matrix.argmin\n",
      "    Indexes of the minimum values along an axis.\n",
      "numpy.chararray.resize\n",
      "    Change shape and size of array in-place.\n",
      "numpy.ma.clump_masked\n",
      "    Returns a list of slices corresponding to the masked clumps of a 1-D array.\n",
      "numpy.ma.count_masked\n",
      "    Count the number of masked elements along the given axis.\n",
      "numpy.ma.mask_rowcols\n",
      "    Mask rows and/or columns of a 2D array that contain masked values.\n",
      "numpy.lib.Arrayterator\n",
      "    Buffered iterator for big arrays.\n",
      "numpy.ma.flatnotmasked_edges\n",
      "    Find the indices of the first and last unmasked values.\n",
      "numpy.ma.clump_unmasked\n",
      "    Return list of slices corresponding to the unmasked clumps of a 1-D array.\n",
      "numpy.ma.notmasked_edges\n",
      "    Find the indices of the first and last unmasked values along an axis.\n",
      "numpy.ma.flatnotmasked_contiguous\n",
      "    Find contiguous unmasked data in a masked array.\n",
      "numpy.ma.notmasked_contiguous\n",
      "    Find contiguous unmasked data in a masked array along the given axis.\n",
      "numpy.ma.MaskedArray.max\n",
      "    Return the maximum along a given axis.\n",
      "numpy.ma.MaskedArray.min\n",
      "    Return the minimum along a given axis.\n",
      "numpy.ma.MaskedArray.ptp\n",
      "    Return (maximum - minimum) along the given dimension\n",
      "numpy.ma.MaskedArray.var\n",
      "    Compute the variance along the specified axis.\n",
      "numpy.ma.MaskedArray.anom\n",
      "    Compute the anomalies (deviations from the arithmetic mean)\n",
      "numpy.ma.MaskedArray.sort\n",
      "    Sort the array, in-place\n",
      "numpy.lib._iotools.flatten_dtype\n",
      "    Unpack a structured data-type by collapsing nested fields and/or fields\n",
      "numpy.ma.MaskedArray.argmax\n",
      "    Returns array of indices of the maximum values along the given axis.\n",
      "numpy.ma.MaskedArray.argmin\n",
      "    Return array of indices to the minimum values along the given axis.\n",
      "numpy.ma.MaskedArray.argsort\n",
      "    Return an ndarray of indices that sort the array along the\n",
      "numpy.ma.MaskedArray.nonzero\n",
      "    Return the indices of unmasked elements that are not zero.\n",
      "numpy.core._multiarray_umath.vdot\n",
      "    Return the dot product of two vectors.\n",
      "numpy.random.Generator.permuted\n",
      "    Randomly permute `x` along axis `axis`.\n",
      "numpy.lib.tests.test__iotools.TestMiscFunctions.test_flatten_dtype\n",
      "    Testing flatten_dtype\n",
      "numpy.core._multiarray_umath.putmask\n",
      "    Changes elements of an array based on conditional and input values.\n",
      "numpy.lib.recfunctions.merge_arrays\n",
      "    Merge arrays field by field.\n",
      "numpy.core._multiarray_umath.packbits\n",
      "    Packs the elements of a binary-valued array into bits in a uint8 array.\n",
      "numpy.core._multiarray_umath.unpackbits\n",
      "    Unpacks elements of a uint8 array into a binary-valued output array.\n",
      "numpy.core._multiarray_umath.concatenate\n",
      "    Join a sequence of arrays along an existing axis.\n",
      "numpy.polynomial.hermite.hermvander2d\n",
      "    Pseudo-Vandermonde matrix of given degrees.\n",
      "numpy.polynomial.hermite.hermvander3d\n",
      "    Pseudo-Vandermonde matrix of given degrees.\n",
      "numpy.polynomial.laguerre.lagvander2d\n",
      "    Pseudo-Vandermonde matrix of given degrees.\n",
      "numpy.polynomial.laguerre.lagvander3d\n",
      "    Pseudo-Vandermonde matrix of given degrees.\n",
      "numpy.polynomial.legendre.legvander2d\n",
      "    Pseudo-Vandermonde matrix of given degrees.\n",
      "numpy.polynomial.legendre.legvander3d\n",
      "    Pseudo-Vandermonde matrix of given degrees.\n",
      "numpy.polynomial.chebyshev.chebvander2d\n",
      "    Pseudo-Vandermonde matrix of given degrees.\n",
      "numpy.polynomial.chebyshev.chebvander3d\n",
      "    Pseudo-Vandermonde matrix of given degrees.\n",
      "numpy.polynomial.hermite_e.hermevander2d\n",
      "    Pseudo-Vandermonde matrix of given degrees.\n",
      "numpy.polynomial.hermite_e.hermevander3d\n",
      "    Pseudo-Vandermonde matrix of given degrees.\n",
      "numpy.polynomial.polynomial.polyvander2d\n",
      "    Pseudo-Vandermonde matrix of given degrees.\n",
      "numpy.polynomial.polynomial.polyvander3d\n",
      "    Pseudo-Vandermonde matrix of given degrees.\n",
      "numpy.ma.tests.test_subclassing.SubArray\n",
      "    ndarray(shape, dtype=float, buffer=None, offset=0,\n",
      "numpy.array_api._array_object.Array._validate_index\n",
      "    Validate an index according to the array API.\n",
      "numpy.core.tests.test_function_base.PhysicalQuantity2\n",
      "    ndarray(shape, dtype=float, buffer=None, offset=0,\n",
      "numpy.ma.tests.test_subclassing.ComplicatedSubArray\n",
      "    ndarray(shape, dtype=float, buffer=None, offset=0,"
     ]
    }
   ],
   "source": [
    "np.lookfor(\"flat\")"
   ]
  },
  {
   "cell_type": "code",
   "execution_count": 76,
   "id": "3af6d07b",
   "metadata": {},
   "outputs": [],
   "source": [
    "np.ravel?"
   ]
  },
  {
   "cell_type": "markdown",
   "id": "5c12c4ec",
   "metadata": {},
   "source": [
    "## Linear Algebra\n",
    "* There is a module for linear algebra, linalg\n",
    "* You can solve for a system of equations using the solve function\n",
    "* You can use the @ to produce the product of two arrays"
   ]
  },
  {
   "cell_type": "code",
   "execution_count": 77,
   "id": "3f2fc910",
   "metadata": {},
   "outputs": [
    {
     "data": {
      "text/plain": [
       "array([1.5 , 8.  , 1.25, 2.  ])"
      ]
     },
     "execution_count": 77,
     "metadata": {},
     "output_type": "execute_result"
    }
   ],
   "source": [
    "orders = np.array([\n",
    "    [2,0,0,0],\n",
    "    [4,1,2,2],\n",
    "    [0,1,0,1],\n",
    "    [6,0,1,2]\n",
    "])\n",
    "\n",
    "totals = np.array([3, 20.50, 10, 14.25])\n",
    "prices = np.linalg.solve(orders, totals)\n",
    "prices"
   ]
  },
  {
   "cell_type": "code",
   "execution_count": 78,
   "id": "e47b6015",
   "metadata": {},
   "outputs": [
    {
     "data": {
      "text/plain": [
       "array([ 3.  , 20.5 , 10.  , 14.25])"
      ]
     },
     "execution_count": 78,
     "metadata": {},
     "output_type": "execute_result"
    }
   ],
   "source": [
    "# A * B\n",
    "orders @ prices"
   ]
  },
  {
   "cell_type": "code",
   "execution_count": 79,
   "id": "d5dc880f",
   "metadata": {},
   "outputs": [
    {
     "data": {
      "text/plain": [
       "array([ 3.  , 20.5 , 10.  , 14.25])"
      ]
     },
     "execution_count": 79,
     "metadata": {},
     "output_type": "execute_result"
    }
   ],
   "source": [
    "orders.dot(prices)"
   ]
  },
  {
   "cell_type": "markdown",
   "id": "ce35485e",
   "metadata": {},
   "source": [
    "## Universal Functions\n",
    "* ufuncs are commonly needed vectorized function\n",
    "    * Lets you operate element by element without iterating through the array\n",
    "* Standard math and comparison operators have been overloaded to work through vectorization\n",
    "* Values can be broadcasted"
   ]
  },
  {
   "cell_type": "code",
   "execution_count": 80,
   "id": "eea25d96",
   "metadata": {},
   "outputs": [
    {
     "data": {
      "text/plain": [
       "(array([1, 2, 3, 4, 5]), array([ 6,  7,  8,  9, 10]))"
      ]
     },
     "execution_count": 80,
     "metadata": {},
     "output_type": "execute_result"
    }
   ],
   "source": [
    "a, b = np.split(np.arange(1,11), 2)\n",
    "a, b"
   ]
  },
  {
   "cell_type": "code",
   "execution_count": 81,
   "id": "67e482e2",
   "metadata": {},
   "outputs": [
    {
     "data": {
      "text/plain": [
       "array([ 7,  9, 11, 13, 15])"
      ]
     },
     "execution_count": 81,
     "metadata": {},
     "output_type": "execute_result"
    }
   ],
   "source": [
    "a + b"
   ]
  },
  {
   "cell_type": "code",
   "execution_count": 82,
   "id": "ef54ae1b",
   "metadata": {},
   "outputs": [
    {
     "data": {
      "text/plain": [
       "array([-5, -5, -5, -5, -5])"
      ]
     },
     "execution_count": 82,
     "metadata": {},
     "output_type": "execute_result"
    }
   ],
   "source": [
    "a - b"
   ]
  },
  {
   "cell_type": "code",
   "execution_count": 83,
   "id": "084aa6f9",
   "metadata": {},
   "outputs": [
    {
     "data": {
      "text/plain": [
       "array([5, 5, 5, 5, 5])"
      ]
     },
     "execution_count": 83,
     "metadata": {},
     "output_type": "execute_result"
    }
   ],
   "source": [
    "b - a"
   ]
  },
  {
   "cell_type": "code",
   "execution_count": 84,
   "id": "8931b13b",
   "metadata": {},
   "outputs": [
    {
     "data": {
      "text/plain": [
       "array([ 6, 14, 24, 36, 50])"
      ]
     },
     "execution_count": 84,
     "metadata": {},
     "output_type": "execute_result"
    }
   ],
   "source": [
    "a * b"
   ]
  },
  {
   "cell_type": "code",
   "execution_count": 85,
   "id": "3ae5c5ea",
   "metadata": {},
   "outputs": [
    {
     "data": {
      "text/plain": [
       "array([3, 4, 5, 6, 7])"
      ]
     },
     "execution_count": 85,
     "metadata": {},
     "output_type": "execute_result"
    }
   ],
   "source": [
    "a + 2"
   ]
  },
  {
   "cell_type": "code",
   "execution_count": 86,
   "id": "ee3662aa",
   "metadata": {},
   "outputs": [
    {
     "data": {
      "text/plain": [
       "array([3, 4, 5, 6, 7])"
      ]
     },
     "execution_count": 86,
     "metadata": {},
     "output_type": "execute_result"
    }
   ],
   "source": [
    "a + np.repeat(2, 5)"
   ]
  },
  {
   "cell_type": "code",
   "execution_count": 87,
   "id": "a905e6a0",
   "metadata": {},
   "outputs": [
    {
     "data": {
      "text/plain": [
       "(array([[0., 1., 2.],\n",
       "        [3., 4., 5.],\n",
       "        [6., 7., 8.]]),\n",
       " array([0., 1., 2.]))"
      ]
     },
     "execution_count": 87,
     "metadata": {},
     "output_type": "execute_result"
    }
   ],
   "source": [
    ">>> x1 = np.arange(9.0).reshape((3, 3))\n",
    ">>> x2 = np.arange(3.0)\n",
    "x1, x2"
   ]
  },
  {
   "cell_type": "code",
   "execution_count": 88,
   "id": "c11b80f4",
   "metadata": {},
   "outputs": [
    {
     "data": {
      "text/plain": [
       "array([[ 0.,  2.,  4.],\n",
       "       [ 3.,  5.,  7.],\n",
       "       [ 6.,  8., 10.]])"
      ]
     },
     "execution_count": 88,
     "metadata": {},
     "output_type": "execute_result"
    }
   ],
   "source": [
    ">>> np.add(x1, x2)"
   ]
  },
  {
   "cell_type": "code",
   "execution_count": 89,
   "id": "af27fbdb",
   "metadata": {},
   "outputs": [
    {
     "data": {
      "text/plain": [
       "array([[ 2.,  3.,  4.],\n",
       "       [ 5.,  6.,  7.],\n",
       "       [ 8.,  9., 10.]])"
      ]
     },
     "execution_count": 89,
     "metadata": {},
     "output_type": "execute_result"
    }
   ],
   "source": [
    "np.add(x1, 2)"
   ]
  },
  {
   "cell_type": "code",
   "execution_count": 90,
   "id": "ecfd6c1e",
   "metadata": {},
   "outputs": [
    {
     "data": {
      "text/plain": [
       "array([[4.   , 3.285, 3.5  , 4.   ],\n",
       "       [3.2  , 2.8  , 4.   , 4.   ],\n",
       "       [3.96 , 3.92 , 4.   , 4.   ]], dtype=float16)"
      ]
     },
     "execution_count": 90,
     "metadata": {},
     "output_type": "execute_result"
    }
   ],
   "source": [
    "students_gpas"
   ]
  },
  {
   "cell_type": "code",
   "execution_count": 91,
   "id": "4853e594",
   "metadata": {},
   "outputs": [
    {
     "data": {
      "text/plain": [
       "3.723"
      ]
     },
     "execution_count": 91,
     "metadata": {},
     "output_type": "execute_result"
    }
   ],
   "source": [
    "students_gpas.mean()"
   ]
  },
  {
   "cell_type": "code",
   "execution_count": 92,
   "id": "e7a2e70b",
   "metadata": {},
   "outputs": [
    {
     "data": {
      "text/plain": [
       "array([3.695, 3.5  , 3.97 ], dtype=float16)"
      ]
     },
     "execution_count": 92,
     "metadata": {},
     "output_type": "execute_result"
    }
   ],
   "source": [
    "students_gpas.mean(axis=1)"
   ]
  },
  {
   "cell_type": "code",
   "execution_count": null,
   "id": "a2cf6243",
   "metadata": {},
   "outputs": [],
   "source": []
  }
 ],
 "metadata": {
  "kernelspec": {
   "display_name": "Python 3 (ipykernel)",
   "language": "python",
   "name": "python3"
  },
  "language_info": {
   "codemirror_mode": {
    "name": "ipython",
    "version": 3
   },
   "file_extension": ".py",
   "mimetype": "text/x-python",
   "name": "python",
   "nbconvert_exporter": "python",
   "pygments_lexer": "ipython3",
   "version": "3.10.4"
  }
 },
 "nbformat": 4,
 "nbformat_minor": 5
}
